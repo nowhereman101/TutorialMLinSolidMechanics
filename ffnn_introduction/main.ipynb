{
  "cells": [
    {
      "cell_type": "markdown",
      "id": "rXsho-JapSFu",
      "metadata": {
        "id": "rXsho-JapSFu"
      },
      "source": [
        "# Task 1: Feed-forward neural networks\n",
        "\n",
        "\n",
        "---\n",
        "\n",
        "Tutorial: \"Machine Learning in Solid Mechanics @ Cyber-Physical Simulation, TU Darmstadt\n",
        "\n",
        "Lecturer: Prof. Oliver Weeger\n",
        "\n",
        "Assistants: Dominik K. Klein, Jasper O. Schommartz\n",
        "\n",
        "---\n",
        "\n",
        "\n",
        "\n"
      ]
    },
    {
      "cell_type": "markdown",
      "id": "ABXunZqEnHu6",
      "metadata": {
        "id": "ABXunZqEnHu6"
      },
      "source": [
        "*Run the following cell to clone the GitHub repository in your current Google Colab environment and install the local package. For the changes to take effect you might need to restart your Colabl session first (\"Runtime / Restart session\" in the header menu).*"
      ]
    },
    {
      "cell_type": "code",
      "execution_count": null,
      "id": "VWYiwVUjnO-_",
      "metadata": {
        "colab": {
          "base_uri": "https://localhost:8080/"
        },
        "id": "VWYiwVUjnO-_",
        "outputId": "5b86a2cb-3260-4dd5-bfa2-52cf45929169"
      },
      "outputs": [],
      "source": [
        "!git clone --depth 1 https://github.com/CPShub/TutorialMLinSolidMechanics.git\n",
        "!cd TutorialMLinSolidMechanics/ffnn_introduction && pip install -e ."
      ]
    },
    {
      "cell_type": "markdown",
      "id": "vAogWUconZUs",
      "metadata": {
        "id": "vAogWUconZUs"
      },
      "source": [
        "*Run the following cell to import all modules and python files to this notebook. If you made changes in the python files, run the following cell again to update the python files in this notebook. You might need to restart your Colab session first (\"Runtime / Restart session\" in the header menu).*"
      ]
    },
    {
      "cell_type": "code",
      "execution_count": null,
      "id": "cb30bbbd",
      "metadata": {
        "colab": {
          "base_uri": "https://localhost:8080/"
        },
        "id": "cb30bbbd",
        "outputId": "05948ad4-797a-45df-e814-563661f49182"
      },
      "outputs": [],
      "source": [
        "import datetime\n",
        "import importlib\n",
        "\n",
        "import jax\n",
        "import jax.random as jrandom\n",
        "import klax\n",
        "from matplotlib import pyplot as plt\n",
        "import time\n",
        "\n",
        "import tmlsm.losses as tl\n",
        "import tmlsm.data as td\n",
        "import tmlsm.models as tm\n",
        "\n",
        "importlib.reload(tm)\n",
        "importlib.reload(tl)\n",
        "importlib.reload(td)\n",
        "\n",
        "now = datetime.datetime.now"
      ]
    },
    {
      "cell_type": "markdown",
      "id": "z_Vse7xmoTaA",
      "metadata": {
        "id": "z_Vse7xmoTaA"
      },
      "source": [
        "*If you want to clone the repository again, you have to delete it from your Google Colab files first. For this, you can run the following cell.*"
      ]
    },
    {
      "cell_type": "code",
      "execution_count": null,
      "id": "4y0ff4-ioU3o",
      "metadata": {
        "id": "4y0ff4-ioU3o"
      },
      "outputs": [],
      "source": [
        "%rm -rf TutorialMLinSolidMechanics"
      ]
    },
    {
      "cell_type": "markdown",
      "id": "Dhz66-jSofjV",
      "metadata": {
        "id": "Dhz66-jSofjV"
      },
      "source": [
        "### Load data and model"
      ]
    },
    {
      "cell_type": "code",
      "execution_count": null,
      "id": "NYCju2tNoqHH",
      "metadata": {
        "colab": {
          "base_uri": "https://localhost:8080/",
          "height": 193
        },
        "id": "NYCju2tNoqHH",
        "outputId": "59828d86-d356-4ac2-b2ed-8d370a2bc7bf"
      },
      "outputs": [],
      "source": [
        "# Create random key for reproducible weight initialization, and\n",
        "# batch splits. The call to `time.time_ns()` may be replaced with\n",
        "# a constant seed if exactly reproductible results ought to be\n",
        "# produced.\n",
        "key = jrandom.PRNGKey(time.time_ns())\n",
        "keys = jrandom.split(key, 2)\n",
        "\n",
        "# Build model instance\n",
        "model = tm.build(key=keys[0])\n",
        "\n",
        "# Load data\n",
        "x, y, x_cal, y_cal = td.bathtub()\n",
        "\n",
        "print(model)"
      ]
    },
    {
      "cell_type": "code",
      "execution_count": null,
      "id": "HgSW2Ys9ov76",
      "metadata": {
        "colab": {
          "base_uri": "https://localhost:8080/",
          "height": 1000
        },
        "id": "HgSW2Ys9ov76",
        "outputId": "67ad7f95-a534-47d4-8724-e07e9d652b2c"
      },
      "outputs": [],
      "source": [
        "# Calibrate model\n",
        "t1 = now()\n",
        "print(t1)\n",
        "\n",
        "model, history = klax.fit(\n",
        "    model,\n",
        "    (x_cal, y_cal),\n",
        "    batch_size=32,\n",
        "    steps=1_000,\n",
        "    loss_fn=tl.MSE(),\n",
        "    history=klax.HistoryCallback(log_every=1),\n",
        "    key=keys[1],\n",
        ")\n",
        "\n",
        "t2 = now()\n",
        "print(\"it took\", t2 - t1, \"(sec) to calibrate the model\")\n",
        "\n",
        "history.plot()"
      ]
    },
    {
      "cell_type": "markdown",
      "id": "aEDHdiJrpFHC",
      "metadata": {
        "id": "aEDHdiJrpFHC"
      },
      "source": [
        "### Model evaluation"
      ]
    },
    {
      "cell_type": "code",
      "execution_count": null,
      "id": "QCDBuL6WpGyr",
      "metadata": {
        "colab": {
          "base_uri": "https://localhost:8080/",
          "height": 808
        },
        "id": "QCDBuL6WpGyr",
        "outputId": "c60bea6c-830d-4f9e-bcae-d25fc7014a5c"
      },
      "outputs": [],
      "source": [
        "# First the model need to be finalized to unwrap and apply all\n",
        "# wrappers and constraints (if present).\n",
        "model_ = klax.finalize(model)\n",
        "\n",
        "plt.figure(2)\n",
        "plt.scatter(x_cal[::10], y_cal[::10], c=\"green\", label=\"calibration data\")\n",
        "plt.plot(x, y, c=\"black\", linestyle=\"--\", label=\"bathtub function\")\n",
        "plt.plot(x, jax.vmap(model_)(x), label=\"model\", color=\"red\")\n",
        "plt.xlabel(\"x\")\n",
        "plt.ylabel(\"y\")\n",
        "plt.legend()\n",
        "plt.show()"
      ]
    }
  ],
  "metadata": {
    "colab": {
      "provenance": []
    },
    "kernelspec": {
      "display_name": "tmlsm",
      "language": "python",
      "name": "python3"
    },
    "language_info": {
      "codemirror_mode": {
        "name": "ipython",
        "version": 3
      },
      "file_extension": ".py",
      "mimetype": "text/x-python",
      "name": "python",
      "nbconvert_exporter": "python",
      "pygments_lexer": "ipython3",
      "version": "3.13.3"
    }
  },
  "nbformat": 4,
  "nbformat_minor": 5
}
